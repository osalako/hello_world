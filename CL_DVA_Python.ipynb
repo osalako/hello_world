{
 "cells": [
  {
   "cell_type": "markdown",
   "metadata": {},
   "source": [
    "# Intro to Python \n",
    "\n",
    "### Resources\n",
    "\n",
    "- This is could be our go to for Python syntax and simple things that we may have forgotten. I would recommend starting [here](https://www.w3schools.com/python/default.asp)\n",
    "- [Kaggle] (https://www.kaggle.com/learn/overview) has very impressive (free) Learning courses, and they're really good! If you're past the fundamentals, then I would recommend Pandas, then Machine Learning....\n",
    "\n",
    "### Practice for Jul-17-2020 (Basic)\n",
    "\n",
    "- Python basic syntax / CS Fundamentals\n",
    "\t-\tFor loops, while loops, return/break/continue/pass\n",
    "\t-\tFunctions\n",
    "\t-\tData Structures\n",
    "\t\t-\tLists\n",
    "\t\t-\tDictionary / Maps\n",
    "\t\t-\tSet\n",
    "\t\t-\tGraph / Linked List / Trees\n",
    "\n",
    "### Practice for Jul-24-2020\n",
    "\n",
    "- Python Intermediate \n",
    "    - 3rd Party Library\n",
    "        - NumPy, Panda\n",
    "        - Visual PyPlot - matPlotLib\n",
    "    - Classes\n",
    "        -\tInheritance\t\n",
    "    - Algorithms\n",
    "\t\t-\tSearch\n",
    "\t\t-\tSort\n",
    "\t-\tRecursion\n",
    "\t-\tDynamic Programming\n",
    "\n",
    "### Practice for Jul-31-2020\n",
    "\n",
    "- Python ML"
   ]
  },
  {
   "cell_type": "code",
   "execution_count": null,
   "metadata": {},
   "outputs": [],
   "source": []
  }
 ],
 "metadata": {
  "kernelspec": {
   "display_name": "Python 3",
   "language": "python",
   "name": "python3"
  },
  "language_info": {
   "codemirror_mode": {
    "name": "ipython",
    "version": 3
   },
   "file_extension": ".py",
   "mimetype": "text/x-python",
   "name": "python",
   "nbconvert_exporter": "python",
   "pygments_lexer": "ipython3",
   "version": "3.7.3"
  }
 },
 "nbformat": 4,
 "nbformat_minor": 2
}
